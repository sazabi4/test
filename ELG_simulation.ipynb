{
 "cells": [
  {
   "cell_type": "code",
   "execution_count": 1,
   "metadata": {
    "collapsed": true
   },
   "outputs": [],
   "source": [
    "import numpy as np\n",
    "\n",
    "h=6.626*1e-34;   # planck constant\n",
    "c=299792458;  #speed of light in m/s\n",
    "area=np.pi * (4./2)**2 # 4 m in diameter\n",
    "exp_time = 1000  # unit: seconds\n",
    "wavelength = 8000 # unit: Angstrom\n",
    "fibersize = 1.5 # unit: arcsec\n",
    "eff = 0.4\n",
    "delta_lambda = 15 # 15 Angstrom\n",
    "rdn = 3 # readnoise"
   ]
  },
  {
   "cell_type": "code",
   "execution_count": 2,
   "metadata": {
    "collapsed": false
   },
   "outputs": [
    {
     "name": "stdout",
     "output_type": "stream",
     "text": [
      "5366.00862507\n"
     ]
    }
   ],
   "source": [
    "#sky = 1e-17  #erg/s/cm2/arcsec2/micron -- I think this is wrong\n",
    "sky = 1e-17  #erg/s/cm2/arcsec2/A -- this is correct, from Hanuschik2003\n",
    "skyfiber = sky * np.pi * (fibersize/2)**2 #unit: #erg/s/cm2/A\n",
    "skyflux = skyfiber * 1e-3 #convert unit from (erg s-1 cm-2 A-1) to (J s-1 m-2 A-1);\n",
    "skypower = skyflux * area * eff * delta_lambda  # Joule \n",
    "skycounts=(skypower/(h*c/wavelength))/1e10 #convert power (Joule) to number of photos, unitless\n",
    "print skycounts * exp_time"
   ]
  },
  {
   "cell_type": "code",
   "execution_count": 4,
   "metadata": {
    "collapsed": false
   },
   "outputs": [
    {
     "name": "stdout",
     "output_type": "stream",
     "text": [
      "1619.48785276\n"
     ]
    }
   ],
   "source": [
    "signal = 8e-17 #unit: erg/s/cm2 from DESI book\n",
    "#assume 0 loss due to the fiber\n",
    "signalflux = signal * 1e-3 # #convert unit from (erg s-1 cm-2) to (J s-1 m-2);\n",
    "signalpower = signalflux * area * eff # no delta_lamda since it is already the integrated flux\n",
    "signalcounts=(signalpower/(h*c/wavelength))/1e10 #convert power (Joule) to number of photos, unitless\n",
    "print signalcounts * exp_time"
   ]
  },
  {
   "cell_type": "code",
   "execution_count": 5,
   "metadata": {
    "collapsed": false
   },
   "outputs": [
    {
     "name": "stdout",
     "output_type": "stream",
     "text": [
      "1440\n"
     ]
    }
   ],
   "source": [
    "#DESI fiber = 51 micron at the detector\n",
    "#PSF for monolight and point source is 6-8 micron -- negligible\n",
    "#pixel size = 15 micron on the detector\n",
    "# -- 4 pixel across one resolution element -- 1.5 Angstrom\n",
    "# so 40 pixel across 15 Angstrom\n",
    "# -- 4 pixel across the spatial dimension\n",
    "# so total of 40x4 pixels for the same sky area\n",
    "RN = 160 * rdn**2\n",
    "print RN"
   ]
  },
  {
   "cell_type": "code",
   "execution_count": 6,
   "metadata": {
    "collapsed": false
   },
   "outputs": [
    {
     "name": "stdout",
     "output_type": "stream",
     "text": [
      "17.6433050946\n"
     ]
    }
   ],
   "source": [
    "snr = signalcounts * exp_time / np.sqrt(signalcounts * exp_time + skycounts * exp_time + RN)\n",
    "print snr"
   ]
  },
  {
   "cell_type": "code",
   "execution_count": null,
   "metadata": {
    "collapsed": true
   },
   "outputs": [],
   "source": []
  }
 ],
 "metadata": {
  "kernelspec": {
   "display_name": "Python [conda env:astroconda]",
   "language": "python",
   "name": "conda-env-astroconda-py"
  },
  "language_info": {
   "codemirror_mode": {
    "name": "ipython",
    "version": 2
   },
   "file_extension": ".py",
   "mimetype": "text/x-python",
   "name": "python",
   "nbconvert_exporter": "python",
   "pygments_lexer": "ipython2",
   "version": "2.7.13"
  }
 },
 "nbformat": 4,
 "nbformat_minor": 1
}
